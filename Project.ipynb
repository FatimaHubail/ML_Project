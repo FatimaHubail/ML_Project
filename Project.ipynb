{
 "cells": [
  {
   "cell_type": "markdown",
   "metadata": {},
   "source": [
    "Data Preprocessing "
   ]
  },
  {
   "cell_type": "code",
   "execution_count": 2,
   "metadata": {},
   "outputs": [],
   "source": [
    "import numpy as np\n",
    "import pandas as pd\n",
    "from sklearn.preprocessing import OneHotEncoder\n",
    "from category_encoders import TargetEncoder, HashingEncoder\n",
    "\n",
    "df = pd.read_csv('Clean_Dataset.csv')\n",
    "one_hot = OneHotEncoder()\n",
    "target = TargetEncoder()\n",
    "hash = HashingEncoder(n_components=16)\n",
    "\n",
    "\n",
    "airline_encoded = one_hot.fit_transform(df[[\"airline\"]]).toarray()\n",
    "airline_labels =  [f\"airline_{cat}\" for cat in one_hot.categories_[0]]\n",
    "airline_df = pd.DataFrame(airline_encoded, columns=airline_labels)\n",
    "\n",
    "source_encoded = one_hot.fit_transform(df[[\"source_city\"]]).toarray()\n",
    "source_labels = [f\"source_{cat}\" for cat in one_hot.categories_[0]]\n",
    "source_df = pd.DataFrame(source_encoded, columns=source_labels)\n",
    "\n",
    "destination_encoded = one_hot.fit_transform(df[[\"destination_city\"]]).toarray()\n",
    "destination_labels = [f\"destination_{cat}\" for cat in one_hot.categories_[0]]\n",
    "destination_df = pd.DataFrame(destination_encoded, columns=destination_labels)\n",
    "\n",
    "#flight_encoded = hash.fit_transform(df['flight'])\n",
    "\n",
    "df[\"departure_time\"]= target.fit_transform(df['departure_time'], df['price'])\n",
    "df[\"arrival_time\"]= target.fit_transform(df['arrival_time'], df['price'])\n",
    "\n",
    "df['stops'] = df['stops'].map({'zero':0, 'one':1, 'two_or_more':2})\n",
    "df['class'] = df['class'].map({'Economy':0, 'Business':1})\n",
    "\n",
    "new_df = pd.concat([df, airline_df, source_df, destination_df], axis=1)\n",
    "new_df = new_df.drop([\"Unnamed: 0\", \"flight\", \"airline\", \"source_city\", \"destination_city\"], axis=1)\n",
    "new_df = new_df.astype('float32')\n",
    "\n"
   ]
  },
  {
   "cell_type": "markdown",
   "metadata": {},
   "source": [
    "Splitting Data for Future Prediction"
   ]
  },
  {
   "cell_type": "code",
   "execution_count": 3,
   "metadata": {},
   "outputs": [],
   "source": [
    "future_df = new_df.tail(15)\n",
    "training_df = new_df.iloc[:-15]"
   ]
  },
  {
   "cell_type": "markdown",
   "metadata": {},
   "source": [
    "Random Selection"
   ]
  },
  {
   "cell_type": "code",
   "execution_count": 6,
   "metadata": {},
   "outputs": [
    {
     "name": "stdout",
     "output_type": "stream",
     "text": [
      "Selected features: ['duration', 'class', 'destination_city', 'days_left', 'source_city']\n"
     ]
    }
   ],
   "source": [
    "import random\n",
    "\n",
    "# Group columns into categories\n",
    "airline_columns = airline_df.columns.tolist()\n",
    "source_columns = source_df.columns.tolist()\n",
    "destination_columns = destination_df.columns.tolist()\n",
    "#flight_columns = flight_encoded.columns.tolist()\n",
    "\n",
    "# Add groups to a list\n",
    "groups = {\n",
    "    \"airline\": airline_columns,\n",
    "    \"source_city\": source_columns,\n",
    "    \"destination_city\": destination_columns,\n",
    "    #\"flight\": flight_columns,\n",
    "}\n",
    "\n",
    "# Flatten the remaining individual columns in `new_df`\n",
    "individual_columns = [\n",
    "    col\n",
    "    for col in training_df.columns\n",
    "    if col not in airline_columns + source_columns + destination_columns #+ flight_columns\n",
    "]\n",
    "individual_columns.remove(\"price\")\n",
    "\n",
    "# Combine groups with individual columns for selection\n",
    "all_features = list(groups.keys()) + individual_columns\n",
    "\n",
    "# Randomly select 5 features\n",
    "select_features = random.sample(all_features, 5)\n",
    "\n",
    "# Expand selected features into their full groups if necessary\n",
    "final_features = []\n",
    "for feature in select_features:\n",
    "    if feature in groups:  # If the feature is a group, include all its columns\n",
    "        final_features.extend(groups[feature])\n",
    "    else:  # Otherwise, it's an individual column\n",
    "        final_features.append(feature)\n",
    "\n",
    "# Create a new DataFrame with the selected features\n",
    "selected_features = training_df[final_features]\n",
    "\n",
    "# Print selected features\n",
    "print(\"Selected features:\", [\n",
    "        feature if feature in groups else feature for feature in select_features])"
   ]
  },
  {
   "cell_type": "markdown",
   "metadata": {},
   "source": [
    "Dataset Splitting"
   ]
  },
  {
   "cell_type": "code",
   "execution_count": 7,
   "metadata": {},
   "outputs": [],
   "source": [
    "from sklearn.model_selection import train_test_split\n",
    "\n",
    "x = selected_features  \n",
    "y = training_df['price']\n",
    "\n",
    "X_train, X_test, y_train, y_test = train_test_split(x, y, test_size=0.3, random_state=42)"
   ]
  },
  {
   "cell_type": "markdown",
   "metadata": {},
   "source": [
    "Model 1: XGBoost"
   ]
  },
  {
   "cell_type": "code",
   "execution_count": 11,
   "metadata": {},
   "outputs": [
    {
     "name": "stdout",
     "output_type": "stream",
     "text": [
      "Accuracy: 0.9498\n",
      "RMSE: 5073.9399\n",
      "R²: 0.9498\n"
     ]
    },
    {
     "data": {
      "image/png": "[encoded data removed]",
      "text/plain": [
       "<Figure size 800x400 with 1 Axes>"
      ]
     },
     "metadata": {},
     "output_type": "display_data"
    }
   ],
   "source": [
    "from sklearn.metrics import mean_squared_error, r2_score\n",
    "from xgboost import XGBRegressor\n",
    "import matplotlib.pyplot as plt\n",
    "\n",
    "# Initialize the XGBoost regressor\n",
    "xgb_model = XGBRegressor(\n",
    "    n_estimators=100,       # Number of trees\n",
    "    max_depth=6,            # Maximum depth of trees\n",
    "    learning_rate=0.1,      # Learning rate\n",
    "    subsample=0.8,          # Subsampling ratio\n",
    "    colsample_bytree=0.8,   # Feature subsampling ratio per tree\n",
    "    random_state=42\n",
    ")\n",
    "\n",
    "# Train the model\n",
    "xgb_model.fit(X_train, y_train)\n",
    "\n",
    "# Predict on the test set\n",
    "y_pred = xgb_model.predict(X_test)\n",
    "\n",
    "# Evaluate the model\n",
    "xg_acc = xgb_model.score(X_test, y_test)\n",
    "rmse = np.sqrt(mean_squared_error(y_test, y_pred))\n",
    "r2 = r2_score(y_test, y_pred)\n",
    "\n",
    "print(f\"Accuracy: {xg_acc:.4f}\")\n",
    "print(f\"RMSE: {rmse:.4f}\")\n",
    "print(f\"R²: {r2:.4f}\")\n",
    "\n",
    "# Retrieve feature importances\n",
    "booster = xgb_model.get_booster()\n",
    "feature_importance = booster.get_score(importance_type='gain')\n",
    "\n",
    "# Convert to a DataFrame for easier manipulation\n",
    "importance_df = pd.DataFrame(\n",
    "    feature_importance.items(),\n",
    "    columns=['Feature', 'Importance']\n",
    ")\n",
    "\n",
    "# Define mappings for encoded columns\n",
    "group_mapping = {\n",
    "    \"airline\": [col for col in airline_columns if col in selected_features],\n",
    "    \"source_city\": [col for col in source_columns if col in selected_features],\n",
    "    \"destination_city\": [col for col in destination_columns if col in selected_features],\n",
    "    #\"flight\": [col for col in flight_encoded.columns.tolist() if col in selected_features],\n",
    "}\n",
    "\n",
    "\n",
    "# Add individual columns to the mapping\n",
    "for col in individual_columns:\n",
    "    if col in selected_features:\n",
    "        group_mapping[col] = [col]\n",
    "\n",
    "for group_name in list(group_mapping.keys()):\n",
    "    group_mapping[group_name] = [col for col in group_mapping[group_name] if col in selected_features]\n",
    "    \n",
    "    # If the group is empty after filtering, remove it from the mapping\n",
    "    if not group_mapping[group_name]:\n",
    "        del group_mapping[group_name]\n",
    "\n",
    "\n",
    "# Initialize a dictionary to hold aggregated importance\n",
    "group_importance = {}\n",
    "\n",
    "for group_name, columns in group_mapping.items():\n",
    "    # Filter importance_df for columns in the current group\n",
    "    group_importance[group_name] = importance_df[\n",
    "        importance_df['Feature'].isin(columns)]['Importance'].sum()\n",
    "\n",
    "# Convert to a DataFrame for visualization\n",
    "aggregated_importance_df = pd.DataFrame(\n",
    "    group_importance.items(),\n",
    "    columns=['Feature', 'Aggregated Importance']\n",
    ").sort_values(by='Aggregated Importance', ascending=False) \n",
    "\n",
    "# Plot aggregated feature importances\n",
    "plt.figure(figsize=(8, 4))\n",
    "plt.barh(\n",
    "    aggregated_importance_df['Feature'],\n",
    "    aggregated_importance_df['Aggregated Importance']\n",
    ")\n",
    "plt.xlabel('Importance')\n",
    "plt.ylabel('Feature')\n",
    "plt.title('Feature Importance')\n",
    "plt.gca().invert_yaxis()  # Invert the y-axis to display the highest importance at the top\n",
    "plt.show()"
   ]
  },
  {
   "cell_type": "markdown",
   "metadata": {},
   "source": [
    "Model 2: Random Forest"
   ]
  },
  {
   "cell_type": "code",
   "execution_count": null,
   "metadata": {},
   "outputs": [
    {
     "name": "stdout",
     "output_type": "stream",
     "text": [
      "60156      4402.0\n",
      "248863    76860.0\n",
      "254487    60508.0\n",
      "274436    55983.0\n",
      "167234     4452.0\n",
      "           ...   \n",
      "157278     3397.0\n",
      "155166     6128.0\n",
      "92041      4071.0\n",
      "153730     9073.0\n",
      "223111    45257.0\n",
      "Name: price, Length: 90042, dtype: float32\n",
      "Accuracy: 0.1578\n"
     ]
    }
   ],
   "source": [
    "from sklearn.ensemble import RandomForestClassifier\n",
    "from sklearn.metrics import confusion_matrix\n",
    "import matplotlib.pyplot as plt\n",
    "import seaborn as sn \n",
    "\n",
    "random_forest = RandomForestClassifier(n_estimators=5, max_depth=5,\n",
    "    max_features='sqrt',\n",
    "    min_samples_split=10,\n",
    "    min_samples_leaf=5,\n",
    "    random_state=42)\n",
    "random_forest.fit(X_train, y_train)\n",
    "random_accuracy = random_forest.score(X_test, y_test)\n",
    "print(f\"Accuracy: {random_accuracy:.4f}\")\n"
   ]
  },
  {
   "cell_type": "code",
   "execution_count": 12,
   "metadata": {},
   "outputs": [
    {
     "data": {
      "image/png": "[encoded data removed]",
      "text/plain": [
       "<Figure size 640x480 with 1 Axes>"
      ]
     },
     "metadata": {},
     "output_type": "display_data"
    }
   ],
   "source": [
    "import matplotlib.pyplot as plt\n",
    "feature_importances = random_forest.feature_importances_\n",
    "plt.bar(range(len(feature_importances)), feature_importances)\n",
    "plt.show()\n"
   ]
  },
  {
   "cell_type": "markdown",
   "metadata": {},
   "source": [
    "Model 3: ANN "
   ]
  },
  {
   "cell_type": "code",
   "execution_count": null,
   "metadata": {},
   "outputs": [
    {
     "name": "stderr",
     "output_type": "stream",
     "text": [
      "c:\\Users\\fhuba\\AppData\\Local\\Programs\\Python\\Python310\\lib\\site-packages\\keras\\src\\layers\\core\\dense.py:87: UserWarning: Do not pass an `input_shape`/`input_dim` argument to a layer. When using Sequential models, prefer using an `Input(shape)` object as the first layer in the model instead.\n",
      "  super().__init__(activity_regularizer=activity_regularizer, **kwargs)\n"
     ]
    },
    {
     "name": "stdout",
     "output_type": "stream",
     "text": [
      "Epoch 1/10\n",
      "\u001b[1m6566/6566\u001b[0m \u001b[32m━━━━━━━━━━━━━━━━━━━━\u001b[0m\u001b[37m\u001b[0m \u001b[1m10s\u001b[0m 1ms/step - loss: 510849056.0000 - mae: 19474.4395\n",
      "Epoch 2/10\n",
      "\u001b[1m6566/6566\u001b[0m \u001b[32m━━━━━━━━━━━━━━━━━━━━\u001b[0m\u001b[37m\u001b[0m \u001b[1m10s\u001b[0m 1ms/step - loss: 501595936.0000 - mae: 19354.3496\n",
      "Epoch 3/10\n",
      "\u001b[1m6566/6566\u001b[0m \u001b[32m━━━━━━━━━━━━━━━━━━━━\u001b[0m\u001b[37m\u001b[0m \u001b[1m10s\u001b[0m 2ms/step - loss: 493736320.0000 - mae: 19157.6895\n",
      "Epoch 4/10\n",
      "\u001b[1m6566/6566\u001b[0m \u001b[32m━━━━━━━━━━━━━━━━━━━━\u001b[0m\u001b[37m\u001b[0m \u001b[1m11s\u001b[0m 2ms/step - loss: 468918176.0000 - mae: 18420.9062\n",
      "Epoch 5/10\n",
      "\u001b[1m6566/6566\u001b[0m \u001b[32m━━━━━━━━━━━━━━━━━━━━\u001b[0m\u001b[37m\u001b[0m \u001b[1m12s\u001b[0m 2ms/step - loss: 446331168.0000 - mae: 17742.4590\n",
      "Epoch 6/10\n",
      "\u001b[1m6566/6566\u001b[0m \u001b[32m━━━━━━━━━━━━━━━━━━━━\u001b[0m\u001b[37m\u001b[0m \u001b[1m10s\u001b[0m 1ms/step - loss: 432144768.0000 - mae: 17414.0117\n",
      "Epoch 7/10\n",
      "\u001b[1m6566/6566\u001b[0m \u001b[32m━━━━━━━━━━━━━━━━━━━━\u001b[0m\u001b[37m\u001b[0m \u001b[1m10s\u001b[0m 2ms/step - loss: 427201664.0000 - mae: 17290.1953\n",
      "Epoch 8/10\n",
      "\u001b[1m6566/6566\u001b[0m \u001b[32m━━━━━━━━━━━━━━━━━━━━\u001b[0m\u001b[37m\u001b[0m \u001b[1m10s\u001b[0m 2ms/step - loss: 422086592.0000 - mae: 17103.9902\n",
      "Epoch 9/10\n",
      "\u001b[1m6566/6566\u001b[0m \u001b[32m━━━━━━━━━━━━━━━━━━━━\u001b[0m\u001b[37m\u001b[0m \u001b[1m7s\u001b[0m 1ms/step - loss: 414493216.0000 - mae: 16910.8496\n",
      "Epoch 10/10\n",
      "\u001b[1m6566/6566\u001b[0m \u001b[32m━━━━━━━━━━━━━━━━━━━━\u001b[0m\u001b[37m\u001b[0m \u001b[1m8s\u001b[0m 1ms/step - loss: 416440352.0000 - mae: 16969.5293\n",
      "ANN Mean Absolute Error: 16856.431640625\n"
     ]
    }
   ],
   "source": [
    "from keras.models import Sequential\n",
    "from keras.layers import Dense\n",
    "\n",
    "# Create the model\n",
    "ann_model = Sequential([\n",
    "    Dense(64, activation=\"relu\", input_dim=X_train.shape[1]),\n",
    "    Dense(32, activation=\"relu\"),\n",
    "    Dense(1, activation=\"linear\")  # Linear activation for regression\n",
    "])\n",
    "\n",
    "# Compile the model with mean squared error loss\n",
    "ann_model.compile(optimizer=\"adam\", loss=\"mean_squared_error\", metrics=[\"mae\"])\n",
    "\n",
    "# Fit the model\n",
    "ann_model.fit(X_train, y_train, epochs=10, batch_size=32, verbose=1)\n",
    "\n",
    "# Evaluate the model on the test set\n",
    "ann_accuracy = ann_model.evaluate(X_test, y_test, verbose=0)[1]\n",
    "print(f\"ANN Mean Absolute Error: {ann_accuracy:.4f}\")\n",
    "\n"
   ]
  }
 ],
 "metadata": {
  "kernelspec": {
   "display_name": "Python 3",
   "language": "python",
   "name": "python3"
  },
  "language_info": {
   "codemirror_mode": {
    "name": "ipython",
    "version": 3
   },
   "file_extension": ".py",
   "mimetype": "text/x-python",
   "name": "python",
   "nbconvert_exporter": "python",
   "pygments_lexer": "ipython3",
   "version": "3.10.11"
  }
 },
 "nbformat": 4,
 "nbformat_minor": 2
}
