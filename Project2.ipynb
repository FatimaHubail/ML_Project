{
 "cells": [
  {
   "cell_type": "markdown",
   "metadata": {},
   "source": [
    "Data Preprocessing"
   ]
  },
  {
   "cell_type": "code",
   "execution_count": 1,
   "metadata": {},
   "outputs": [
    {
     "name": "stdout",
     "output_type": "stream",
     "text": [
      "             airline   source_city  departure_time  stops  arrival_time  \\\n",
      "0        6179.278809  18951.326172    21232.361328    0.0  21586.757812   \n",
      "1        6179.278809  18951.326172    20370.675781    0.0  22231.076172   \n",
      "2        4091.072754  18951.326172    20370.675781    0.0  14993.139648   \n",
      "3       30396.537109  18951.326172    21630.759766    0.0  18494.599609   \n",
      "4       30396.537109  18951.326172    21630.759766    0.0  22231.076172   \n",
      "...              ...           ...             ...    ...           ...   \n",
      "300148  30396.537109  21995.339844    21630.759766    1.0  23044.371094   \n",
      "300149  30396.537109  21995.339844    18179.203125    1.0  21586.757812   \n",
      "300150  30396.537109  21995.339844    20370.675781    1.0  21586.757812   \n",
      "300151  30396.537109  21995.339844    20370.675781    1.0  23044.371094   \n",
      "300152  30396.537109  21995.339844    21630.759766    1.0  23044.371094   \n",
      "\n",
      "        destination_city  class  duration  days_left    price  \n",
      "0           21372.529297    0.0      2.17        1.0   5953.0  \n",
      "1           21372.529297    0.0      2.33        1.0   5953.0  \n",
      "2           21372.529297    0.0      2.17        1.0   5956.0  \n",
      "3           21372.529297    0.0      2.25        1.0   5955.0  \n",
      "4           21372.529297    0.0      2.33        1.0   5955.0  \n",
      "...                  ...    ...       ...        ...      ...  \n",
      "300148      20427.662109    1.0     10.08       49.0  69265.0  \n",
      "300149      20427.662109    1.0     10.42       49.0  77105.0  \n",
      "300150      20427.662109    1.0     13.83       49.0  79099.0  \n",
      "300151      20427.662109    1.0     10.00       49.0  81585.0  \n",
      "300152      20427.662109    1.0     10.08       49.0  81585.0  \n",
      "\n",
      "[300153 rows x 10 columns]\n"
     ]
    }
   ],
   "source": [
    "import numpy as np\n",
    "import pandas as pd\n",
    "from sklearn.preprocessing import LabelEncoder\n",
    "from category_encoders import TargetEncoder\n",
    "\n",
    "df = pd.read_csv('Clean_Dataset.csv')\n",
    "label = LabelEncoder()\n",
    "target = TargetEncoder()\n",
    "\n",
    "df['airline'] = target.fit_transform(df['airline'],df['price'])\n",
    "df['source_city'] = target.fit_transform(df['source_city'], df['price'])\n",
    "df['destination_city'] = target.fit_transform(df['destination_city'],df['price'])\n",
    "df[\"departure_time\"]= target.fit_transform(df['departure_time'], df['price'])\n",
    "df[\"arrival_time\"]= target.fit_transform(df['arrival_time'], df['price'])\n",
    "df['stops'] = df['stops'].map({'zero':0, 'one':1, 'two_or_more':2})\n",
    "df['class'] = df['class'].map({'Economy':0, 'Business':1})\n",
    "\n",
    "new_df = df.drop([\"Unnamed: 0\", \"flight\"], axis=1)\n",
    "new_df = new_df.astype('float32')\n",
    "print(new_df)\n"
   ]
  },
  {
   "cell_type": "markdown",
   "metadata": {},
   "source": [
    "Splitting Data for Future Prediction"
   ]
  },
  {
   "cell_type": "code",
   "execution_count": 2,
   "metadata": {},
   "outputs": [],
   "source": [
    "future_df = new_df.tail(15)\n",
    "training_df = new_df.iloc[:-15]\n"
   ]
  },
  {
   "cell_type": "markdown",
   "metadata": {},
   "source": [
    "Random Selection"
   ]
  },
  {
   "cell_type": "code",
   "execution_count": 4,
   "metadata": {},
   "outputs": [
    {
     "name": "stdout",
     "output_type": "stream",
     "text": [
      "Index(['stops', 'airline', 'class', 'source_city', 'days_left'], dtype='object')\n",
      "['stops' 'airline' 'class' 'source_city' 'days_left']\n",
      "(300138, 5)\n"
     ]
    }
   ],
   "source": [
    "selected_features = np.random.choice(training_df.columns[:-1], size = 5, replace=False)\n",
    "x = training_df[selected_features] # Assign selected columns to x \n",
    "print(x.columns)\n",
    "print(selected_features)\n",
    "print(training_df[selected_features].shape)\n"
   ]
  },
  {
   "cell_type": "markdown",
   "metadata": {},
   "source": [
    "Dataset Splitting"
   ]
  },
  {
   "cell_type": "code",
   "execution_count": 5,
   "metadata": {},
   "outputs": [],
   "source": [
    "from sklearn.model_selection import train_test_split  \n",
    "y = training_df['price']\n",
    "\n",
    "X_train, X_test, y_train, y_test = train_test_split(x, y, test_size=0.3, random_state=42)"
   ]
  },
  {
   "cell_type": "markdown",
   "metadata": {},
   "source": [
    "Model 1: XGBOOST"
   ]
  },
  {
   "cell_type": "code",
   "execution_count": 6,
   "metadata": {},
   "outputs": [
    {
     "name": "stdout",
     "output_type": "stream",
     "text": [
      "Accuracy: 0.9454\n",
      "RMSE: 5290.6157\n",
      "R²: 0.9454\n"
     ]
    }
   ],
   "source": [
    "from sklearn.metrics import mean_squared_error, r2_score\n",
    "from xgboost import XGBRegressor\n",
    "import matplotlib.pyplot as plt\n",
    "\n",
    "# Initialize the XGBoost regressor\n",
    "xgb_model = XGBRegressor(\n",
    "    n_estimators=100,       # Number of trees\n",
    "    max_depth=6,            # Maximum depth of trees\n",
    "    learning_rate=0.1,      # Learning rate\n",
    "    subsample=0.8,          # Subsampling ratio\n",
    "    colsample_bytree=0.8,   # Feature subsampling ratio per tree\n",
    "    random_state=42\n",
    ")\n",
    "\n",
    "# Train the model\n",
    "xgb_model.fit(X_train, y_train)\n",
    "\n",
    "# Predict on the test set\n",
    "y_pred = xgb_model.predict(X_test)\n",
    "\n",
    "# Evaluate the model\n",
    "xg_acc = xgb_model.score(X_test, y_test)\n",
    "rmse = np.sqrt(mean_squared_error(y_test, y_pred))\n",
    "r2 = r2_score(y_test, y_pred)\n",
    "\n",
    "print(f\"Accuracy: {xg_acc:.4f}\")\n",
    "print(f\"RMSE: {rmse:.4f}\")\n",
    "print(f\"R²: {r2:.4f}\")\n"
   ]
  },
  {
   "cell_type": "markdown",
   "metadata": {},
   "source": [
    "Model 2: Random Forest"
   ]
  },
  {
   "cell_type": "code",
   "execution_count": 7,
   "metadata": {},
   "outputs": [
    {
     "name": "stdout",
     "output_type": "stream",
     "text": [
      "Accuracy: 0.1148\n"
     ]
    }
   ],
   "source": [
    "from sklearn.ensemble import RandomForestClassifier\n",
    "from sklearn.metrics import confusion_matrix\n",
    "import matplotlib.pyplot as plt\n",
    "import seaborn as sn \n",
    "\n",
    "random_forest = RandomForestClassifier(n_estimators=5, max_depth=5,\n",
    "    max_features='sqrt',\n",
    "    min_samples_split=10,\n",
    "    min_samples_leaf=5,\n",
    "    random_state=42)\n",
    "random_forest.fit(X_train, y_train)\n",
    "random_accuracy = random_forest.score(X_test, y_test)\n",
    "print(f\"Accuracy: {random_accuracy:.4f}\")\n"
   ]
  },
  {
   "cell_type": "code",
   "execution_count": null,
   "metadata": {},
   "outputs": [],
   "source": [
    "from sklearn.naive_bayes import GaussianNB\n",
    "from sklearn.metrics import accuracy_score\n",
    "\n",
    "naive = GaussianNB()\n",
    "naive.fit(X_train,y_train)\n",
    "y_prediction = naive.predict(X_test)\n",
    "accuracy = accuracy_score(X_test,y_test)\n",
    "print(f\"accuracy = : {accuracy:.4f}\")\n"
   ]
  }
 ],
 "metadata": {
  "kernelspec": {
   "display_name": "Python 3",
   "language": "python",
   "name": "python3"
  },
  "language_info": {
   "codemirror_mode": {
    "name": "ipython",
    "version": 3
   },
   "file_extension": ".py",
   "mimetype": "text/x-python",
   "name": "python",
   "nbconvert_exporter": "python",
   "pygments_lexer": "ipython3",
   "version": "3.10.11"
  }
 },
 "nbformat": 4,
 "nbformat_minor": 2
}
